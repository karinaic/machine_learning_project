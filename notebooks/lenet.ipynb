{
 "metadata": {
  "language_info": {
   "codemirror_mode": {
    "name": "ipython",
    "version": 3
   },
   "file_extension": ".py",
   "mimetype": "text/x-python",
   "name": "python",
   "nbconvert_exporter": "python",
   "pygments_lexer": "ipython3",
   "version": "3.7.4"
  },
  "orig_nbformat": 4,
  "kernelspec": {
   "name": "python3",
   "display_name": "Python 3.7.4 64-bit"
  },
  "interpreter": {
   "hash": "0600588c3b5f4418cbe7b5ebc6825b479f3bc010269d8b60d75058cdd010adfe"
  }
 },
 "nbformat": 4,
 "nbformat_minor": 2,
 "cells": [
  {
   "cell_type": "code",
   "execution_count": 1,
   "metadata": {},
   "outputs": [],
   "source": [
    "import numpy as np\n",
    "import pandas as pd\n",
    "import matplotlib.pyplot as plt\n",
    "import seaborn as sns\n",
    "import os\n",
    "import cv2\n",
    "\n",
    "import warnings\n",
    "warnings.filterwarnings('ignore')\n",
    "\n",
    "from PIL import Image\n",
    "from sklearn.model_selection import train_test_split\n",
    "from skimage.transform import resize\n",
    "from sklearn.metrics import accuracy_score\n",
    "import tensorflow as tf\n",
    "from tensorflow.keras import *\n",
    "\n",
    "from tensorflow.keras.layers import *\n",
    "from tensorflow.keras.models import *\n",
    "from tensorflow.keras.callbacks import *\n",
    "from tensorflow.keras.optimizers import *\n",
    "from tensorflow import keras\n",
    "\n",
    "from utils import folders_tb as f\n",
    "from utils import models as mo"
   ]
  },
  {
   "cell_type": "code",
   "execution_count": 2,
   "metadata": {},
   "outputs": [
    {
     "output_type": "execute_result",
     "data": {
      "text/plain": [
       "'c:\\\\Users\\\\Karina\\\\Desktop\\\\data_science_apr_2021\\\\machine_learning_project\\\\project\\\\data\\\\Train'"
      ]
     },
     "metadata": {},
     "execution_count": 2
    }
   ],
   "source": [
    "data = []\n",
    "labels = []\n",
    "classes = 43\n",
    "cur_path = f.curr_path() + os.sep + 'data' + os.sep + \"Train\"\n",
    "cur_path"
   ]
  },
  {
   "cell_type": "code",
   "execution_count": 3,
   "metadata": {},
   "outputs": [],
   "source": [
    "for i in os.listdir(cur_path):\n",
    "    dir = cur_path + '/' + i\n",
    "    for j in os.listdir(dir):\n",
    "        img_path = dir+'/'+j\n",
    "        img = cv2.imread(img_path,-1)\n",
    "        img = cv2.resize(img, (30,30), interpolation = cv2.INTER_NEAREST)\n",
    "        data.append(img)\n",
    "        labels.append(i)\n",
    "        \n",
    "x_train = np.array(data)\n",
    "x_train = x_train / 255\n",
    "y_train = np.array(labels).astype(np.float)"
   ]
  },
  {
   "cell_type": "code",
   "execution_count": 4,
   "metadata": {},
   "outputs": [
    {
     "output_type": "stream",
     "name": "stdout",
     "text": [
      "(31367, 30, 30, 3) (31367,)\n(7842, 30, 30, 3) (7842,)\n"
     ]
    }
   ],
   "source": [
    "x_train, x_valid, y_train, y_valid = train_test_split(x_train, y_train, test_size=0.2, random_state=42)\n",
    "print(x_train.shape, y_train.shape)\n",
    "print(x_valid.shape, y_valid.shape)"
   ]
  },
  {
   "source": [
    "PROBANDO MODELO LENET5 CON EL CJTO TRAIN"
   ],
   "cell_type": "markdown",
   "metadata": {}
  },
  {
   "cell_type": "code",
   "execution_count": 5,
   "metadata": {},
   "outputs": [
    {
     "output_type": "stream",
     "name": "stdout",
     "text": [
      "Model: \"sequential\"\n_________________________________________________________________\nLayer (type)                 Output Shape              Param #   \n=================================================================\nconv2d (Conv2D)              (None, 30, 30, 6)         456       \n_________________________________________________________________\nbatch_normalization (BatchNo (None, 30, 30, 6)         24        \n_________________________________________________________________\naverage_pooling2d (AveragePo (None, 15, 15, 6)         0         \n_________________________________________________________________\nconv2d_1 (Conv2D)            (None, 13, 13, 16)        880       \n_________________________________________________________________\nbatch_normalization_1 (Batch (None, 13, 13, 16)        64        \n_________________________________________________________________\nmax_pooling2d (MaxPooling2D) (None, 7, 7, 16)          0         \n_________________________________________________________________\nflatten (Flatten)            (None, 784)               0         \n_________________________________________________________________\ndense (Dense)                (None, 120)               94200     \n_________________________________________________________________\nbatch_normalization_2 (Batch (None, 120)               480       \n_________________________________________________________________\nflatten_1 (Flatten)          (None, 120)               0         \n_________________________________________________________________\ndropout (Dropout)            (None, 120)               0         \n_________________________________________________________________\ndense_1 (Dense)              (None, 84)                10164     \n_________________________________________________________________\nbatch_normalization_3 (Batch (None, 84)                336       \n_________________________________________________________________\nflatten_2 (Flatten)          (None, 84)                0         \n_________________________________________________________________\ndropout_1 (Dropout)          (None, 84)                0         \n_________________________________________________________________\ndense_2 (Dense)              (None, 43)                3655      \n=================================================================\nTotal params: 110,259\nTrainable params: 109,807\nNon-trainable params: 452\n_________________________________________________________________\n"
     ]
    }
   ],
   "source": [
    "model = mo.model_lenet_5()"
   ]
  },
  {
   "cell_type": "code",
   "execution_count": 6,
   "metadata": {},
   "outputs": [],
   "source": [
    "callback = EarlyStopping(monitor='val_accuracy', patience=20, restore_best_weights=True)\n",
    "reduce_lr = ReduceLROnPlateau(monitor='val_accuracy',factor=1e-1, patience=8, verbose=1, min_lr = 2e-6)\n",
    "opt = Adam(learning_rate = 1e-3)"
   ]
  },
  {
   "cell_type": "code",
   "execution_count": 7,
   "metadata": {},
   "outputs": [],
   "source": [
    "\n",
    "model.compile(optimizer='adam',\n",
    "              loss='sparse_categorical_crossentropy',\n",
    "              metrics=['accuracy'])"
   ]
  },
  {
   "cell_type": "code",
   "execution_count": 8,
   "metadata": {},
   "outputs": [
    {
     "output_type": "stream",
     "name": "stdout",
     "text": [
      "Epoch 1/2\n",
      "246/246 [==============================] - 11s 42ms/step - loss: 2.6244 - accuracy: 0.3408 - val_loss: 3.0212 - val_accuracy: 0.2456\n",
      "Epoch 2/2\n",
      "246/246 [==============================] - 10s 41ms/step - loss: 1.2742 - accuracy: 0.6521 - val_loss: 0.8680 - val_accuracy: 0.8083\n"
     ]
    }
   ],
   "source": [
    "history = model.fit(x_train ,y_train,  batch_size = 128, \n",
    "         epochs=2, validation_data = (x_valid, y_valid),\n",
    "          callbacks=[callback, reduce_lr], shuffle = True)"
   ]
  },
  {
   "cell_type": "code",
   "execution_count": 9,
   "metadata": {},
   "outputs": [],
   "source": [
    "model.save('../models/model_lenet.h5')"
   ]
  },
  {
   "cell_type": "code",
   "execution_count": 10,
   "metadata": {},
   "outputs": [],
   "source": [
    "cur_path = f.curr_path() + os.sep + 'data' + os.sep + \"Train\"\n",
    "test = pd.read_csv(f.curr_path() + os.sep + 'data' + os.sep + \"Test.csv\")\n",
    "y_test = test[\"ClassId\"].values\n",
    "imgs = test[\"Path\"].values\n",
    "test_path = f.curr_path() + os.sep + 'data' \n",
    "data_test =[]\n",
    "for img in imgs:\n",
    "    image = cv2.imread(f.curr_path() + os.sep + 'data' +os.sep +img)\n",
    "    image_fromarray = Image.fromarray(image, 'RGB')\n",
    "    resize_image = image_fromarray.resize((30, 30))\n",
    "    data_test.append(np.array( resize_image ))\n"
   ]
  },
  {
   "cell_type": "code",
   "execution_count": 11,
   "metadata": {},
   "outputs": [],
   "source": [
    "\n",
    "x_test = np.array(data_test)\n",
    "x_test = x_test/255\n",
    "y_test = test[\"ClassId\"].values\n"
   ]
  },
  {
   "cell_type": "code",
   "execution_count": 12,
   "metadata": {},
   "outputs": [
    {
     "output_type": "stream",
     "name": "stdout",
     "text": [
      "(12630, 30, 30, 3)\n(12630,)\n"
     ]
    }
   ],
   "source": [
    "print(x_test.shape)\n",
    "print(y_test.shape)"
   ]
  },
  {
   "cell_type": "code",
   "execution_count": 16,
   "metadata": {},
   "outputs": [],
   "source": [
    "model_lenet5 = keras.models.load_model('../models/model_lenet.h5')"
   ]
  },
  {
   "cell_type": "code",
   "execution_count": 17,
   "metadata": {},
   "outputs": [
    {
     "output_type": "stream",
     "name": "stdout",
     "text": [
      "395/395 [==============================] - 2s 4ms/step - loss: 1.0123 - accuracy: 0.7567\n"
     ]
    },
    {
     "output_type": "execute_result",
     "data": {
      "text/plain": [
       "[1.0122861862182617, 0.7566904425621033]"
      ]
     },
     "metadata": {},
     "execution_count": 17
    }
   ],
   "source": [
    "model_lenet5.evaluate(x_test, y_test)"
   ]
  },
  {
   "source": [
    "MODELO SENCILLO DE CNN"
   ],
   "cell_type": "markdown",
   "metadata": {}
  },
  {
   "cell_type": "code",
   "execution_count": 20,
   "metadata": {},
   "outputs": [
    {
     "output_type": "stream",
     "name": "stdout",
     "text": [
      "Train set to Simple model CNN: (21956, 30, 30, 3) (21956,)\nValid set to Simple model CNN: (9411, 30, 30, 3) (9411,)\n"
     ]
    }
   ],
   "source": [
    "x_simple_train, x_simple_valid, y_simple_train, y_simple_valid = train_test_split(x_train, y_train, test_size=0.3, random_state=119)\n",
    "print(\"Train set to Simple model CNN:\",x_simple_train.shape, y_simple_train.shape)\n",
    "print(\"Valid set to Simple model CNN:\",x_simple_valid.shape, y_simple_valid.shape)"
   ]
  },
  {
   "cell_type": "code",
   "execution_count": 21,
   "metadata": {},
   "outputs": [],
   "source": [
    "x_simple_test = np.array(data_test)\n",
    "x_simple_test = x_test/255\n",
    "y_simple_test = test[\"ClassId\"].values"
   ]
  },
  {
   "cell_type": "code",
   "execution_count": 23,
   "metadata": {},
   "outputs": [
    {
     "output_type": "stream",
     "name": "stdout",
     "text": [
      "Simple X_Test set shape: (12630, 30, 30, 3)\nSimple y_Test set shape: (12630,)\n"
     ]
    }
   ],
   "source": [
    "print(\"Simple X_Test set shape:\", x_simple_test.shape)\n",
    "print(\"Simple y_Test set shape:\", y_simple_test.shape)"
   ]
  },
  {
   "cell_type": "code",
   "execution_count": 25,
   "metadata": {},
   "outputs": [
    {
     "output_type": "error",
     "ename": "AttributeError",
     "evalue": "module 'utils.models' has no attribute 'simple_model'",
     "traceback": [
      "\u001b[1;31m---------------------------------------------------------------------------\u001b[0m",
      "\u001b[1;31mAttributeError\u001b[0m                            Traceback (most recent call last)",
      "\u001b[1;32m<ipython-input-25-a39a28c93c66>\u001b[0m in \u001b[0;36m<module>\u001b[1;34m\u001b[0m\n\u001b[1;32m----> 1\u001b[1;33m \u001b[0mnuevo_modelo\u001b[0m \u001b[1;33m=\u001b[0m \u001b[0mmo\u001b[0m\u001b[1;33m.\u001b[0m\u001b[0msimple_model\u001b[0m\u001b[1;33m(\u001b[0m\u001b[1;33m)\u001b[0m\u001b[1;33m\u001b[0m\u001b[1;33m\u001b[0m\u001b[0m\n\u001b[0m",
      "\u001b[1;31mAttributeError\u001b[0m: module 'utils.models' has no attribute 'simple_model'"
     ]
    }
   ],
   "source": [
    "nuevo_modelo = mo.simple_model()"
   ]
  }
 ]
}