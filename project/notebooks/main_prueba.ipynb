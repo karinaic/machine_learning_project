{
 "metadata": {
  "language_info": {
   "codemirror_mode": {
    "name": "ipython",
    "version": 3
   },
   "file_extension": ".py",
   "mimetype": "text/x-python",
   "name": "python",
   "nbconvert_exporter": "python",
   "pygments_lexer": "ipython3",
   "version": 3
  },
  "orig_nbformat": 4
 },
 "nbformat": 4,
 "nbformat_minor": 2,
 "cells": [
  {
   "source": [],
   "cell_type": "markdown",
   "metadata": {}
  },
  {
   "source": [
    "<img src=\"german_trafic.png\" width=\"70%\"/>\n"
   ],
   "cell_type": "markdown",
   "metadata": {}
  },
  {
   "source": [
    "# GERMAN TRAFFIC SIGN RECOGNITION BENCHMARK - GTSRB\n",
    "##        MACHINE LEARNING\n",
    "##        CONVOLUTIONAL NEURAL NETWORKS\n",
    "\n",
    "---"
   ],
   "cell_type": "markdown",
   "metadata": {}
  },
  {
   "source": [
    "####    This project presents benchmark data sets and results for computer vision and machine learning           problems. The benchmark data sets are compiled by the Real-Time Computer Vision group.\n",
    "####    The German Traffic Sign Recognition Benchmark (GTSRB), is a large multi-category classification          benchmark.\n",
    "\n",
    "---"
   ],
   "cell_type": "markdown",
   "metadata": {}
  },
  {
   "source": [
    "#### Dataset : \n",
    "\n",
    "+   Single-image, multi-class classification problem\n",
    "+   More than 40 classes\n",
    "+   More than 50,000 images in total\n",
    "+   Large, lifelike database"
   ],
   "cell_type": "markdown",
   "metadata": {}
  },
  {
   "cell_type": "code",
   "execution_count": null,
   "metadata": {},
   "outputs": [],
   "source": []
  },
  {
   "cell_type": "code",
   "execution_count": null,
   "metadata": {},
   "outputs": [],
   "source": []
  }
 ]
}