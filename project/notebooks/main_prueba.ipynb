{
 "metadata": {
  "language_info": {
   "codemirror_mode": {
    "name": "ipython",
    "version": 3
   },
   "file_extension": ".py",
   "mimetype": "text/x-python",
   "name": "python",
   "nbconvert_exporter": "python",
   "pygments_lexer": "ipython3",
   "version": 3
  },
  "orig_nbformat": 4
 },
 "nbformat": 4,
 "nbformat_minor": 2,
 "cells": [
  {
   "source": [],
   "cell_type": "markdown",
   "metadata": {}
  },
  {
   "source": [
    "\n"
   ],
   "cell_type": "markdown",
   "metadata": {}
  },
  {
   "source": [
    "# GERMAN TRAFFIC SIGN RECOGNITION BENCHMARK - GTSRB\n",
    "##        MACHINE LEARNING\n",
    "##        CONVOLUTIONAL NEURAL NETWORKS\n",
    "\n",
    "---"
   ],
   "cell_type": "markdown",
   "metadata": {}
  },
  {
   "source": [
    "####    This project presents benchmark data sets and results for computer vision and machine learning           problems. The benchmark data sets are compiled by the Real-Time Computer Vision group.\n",
    "####    The German Traffic Sign Recognition Benchmark (GTSRB), is a large multi-category classification          benchmark.\n",
    "\n",
    "---"
   ],
   "cell_type": "markdown",
   "metadata": {}
  },
  {
   "source": [
    "#### Dataset : \n",
    "\n",
    "+   Single-image, multi-class classification problem\n",
    "+   More than 40 classes\n",
    "+   More than 50,000 images in total\n",
    "+   Large, lifelike database\n",
    "\n",
    "#### Structure\n",
    "\n",
    "+   The training set archive is structures as follows:\n",
    "+   One directory per class\n",
    "+   Each directory contains one CSV file with annotations (\"GT-<ClassID>.csv\") and the training images\n",
    "+   Training images are grouped by tracks\n",
    "+   Each track contains 30 images of one single physical traffic sign\n",
    "\n",
    "#### Image format\n",
    "\n",
    "+   The images contain one traffic sign each\n",
    "+   Images contain a border of 10 % around the actual traffic sign (at least 5 pixels) to allow for edge-based approaches\n",
    "+   Images are stored in PPM format (Portable Pixmap, P6)\n",
    "+   Image sizes vary between 15x15 to 250x250 pixels\n",
    "+   Images are not necessarily squared\n",
    "+   The actual traffic sign is not necessarily centered within the image.This is true for images that were close to the image border in the full camera image\n",
    "+   The bounding box of the traffic sign is part of the annotatinos (see below)"
   ],
   "cell_type": "markdown",
   "metadata": {}
  },
  {
   "cell_type": "code",
   "execution_count": null,
   "metadata": {},
   "outputs": [],
   "source": []
  },
  {
   "cell_type": "code",
   "execution_count": null,
   "metadata": {},
   "outputs": [],
   "source": []
  }
 ]
}