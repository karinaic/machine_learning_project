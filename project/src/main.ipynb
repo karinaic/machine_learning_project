{
 "metadata": {
  "language_info": {
   "codemirror_mode": {
    "name": "ipython",
    "version": 3
   },
   "file_extension": ".py",
   "mimetype": "text/x-python",
   "name": "python",
   "nbconvert_exporter": "python",
   "pygments_lexer": "ipython3",
   "version": "3.7.4"
  },
  "orig_nbformat": 4,
  "kernelspec": {
   "name": "python3",
   "display_name": "Python 3.7.4 64-bit"
  },
  "interpreter": {
   "hash": "0600588c3b5f4418cbe7b5ebc6825b479f3bc010269d8b60d75058cdd010adfe"
  }
 },
 "nbformat": 4,
 "nbformat_minor": 2,
 "cells": [
  {
   "source": [
    "# MACHINE LEARNING MODEL FOR TRAFFIC SIGN DETECTION\n",
    "\n",
    "##        CONVOLUTIONAL NEURAL NETWORKS\n",
    "---"
   ],
   "cell_type": "markdown",
   "metadata": {}
  },
  {
   "source": [
    "### Project Description\n",
    "---\n",
    "\n",
    "Traffic signs have been designed to be easily recognizable by the human brain, however for computer systems this classification continues to present its limitations in the recognition of their patterns.\n",
    "\n",
    "This project consists of creating a predictive Machine Learning model for the automated recognition of traffic signs.\n",
    "\n",
    "For our objective we are going to compare a traditional Super Vector Machine (SVM) classification model and a model based on convolutional neural networks (CNN), we will be changing its hyperparameters to solve its complexity and make the comparison of its results and the margin of error. that each one of them offers us.\n",
    "\n",
    "For this study, we will use the data set compiled in real time during more than 10 hours of work by the Group Vision team of the German Traffic Sign Recognition Benchmark (GTSRB).\n",
    "\n",
    "Finally we will stay with the best prediction result offered to us and we will create a traffic sign detector in images based on Deep Learning.\n",
    "\n",
    "#### Dataset : \n",
    "\n",
    "+   Single-image, multi-class classification problem\n",
    "+   More than 40 classes\n",
    "+   More than 50,000 images in total\n",
    "+   Large, lifelike database\n",
    "\n",
    "#### Structure\n",
    "\n",
    "+   The training set archive is structures as follows:\n",
    "+   One directory per class\n",
    "+   Each directory contains one CSV file with annotations (\"GT-<ClassID>.csv\") and the training images\n",
    "+   Training images are grouped by tracks\n",
    "+   Each track contains 30 images of one single physical traffic sign\n",
    "\n",
    "#### Image format\n",
    "\n",
    "+   The images contain one traffic sign each\n",
    "+   Images contain a border of 10 % around the actual traffic sign (at least 5 pixels) to allow for edge-based approaches\n",
    "+   Images are stored in PPM format (Portable Pixmap, P6)\n",
    "+   Image sizes vary between 15x15 to 250x250 pixels\n",
    "+   Images are not necessarily squared\n",
    "+   The actual traffic sign is not necessarily centered within the image.This is true for images that were close to the image border in the full camera image\n",
    "+   The bounding box of the traffic sign is part of the annotatinos (see below)\n",
    "\n",
    "\n",
    "#### Keywords:\n",
    "+   Artificial vision,\n",
    "+   Deep Learning,\n",
    "+   Object Detection,\n",
    "+   Supervised Learning,\n",
    "+   Neural Networks."
   ],
   "cell_type": "markdown",
   "metadata": {}
  },
  {
   "source": [
    "### Exploratory Analysis"
   ],
   "cell_type": "markdown",
   "metadata": {}
  },
  {
   "cell_type": "code",
   "execution_count": 2,
   "metadata": {},
   "outputs": [],
   "source": [
    "import pandas as pd\n",
    "import numpy as np \n",
    "\n",
    "#visualization\n",
    "from utils import visualization_tb as vt\n",
    "from matplotlib.image import imread\n",
    "import matplotlib.pyplot as plt\n",
    "\n",
    "#redimension\n",
    "import cv2 as cv\n",
    "\n",
    "#path\n",
    "import os\n",
    "from os import listdir\n",
    "from os.path import isfile, join"
   ]
  },
  {
   "cell_type": "code",
   "execution_count": 3,
   "metadata": {},
   "outputs": [
    {
     "output_type": "execute_result",
     "data": {
      "text/plain": [
       "   Width  Height  Roi.X1  Roi.Y1  Roi.X2  Roi.Y2  ClassId  \\\n",
       "0     27      26       5       5      22      20       20   \n",
       "1     28      27       5       6      23      22       20   \n",
       "2     29      26       6       5      24      21       20   \n",
       "3     28      27       5       6      23      22       20   \n",
       "4     28      26       5       5      23      21       20   \n",
       "\n",
       "                             Path  \n",
       "0  Train/20/00020_00000_00000.png  \n",
       "1  Train/20/00020_00000_00001.png  \n",
       "2  Train/20/00020_00000_00002.png  \n",
       "3  Train/20/00020_00000_00003.png  \n",
       "4  Train/20/00020_00000_00004.png  "
      ],
      "text/html": "<div>\n<style scoped>\n    .dataframe tbody tr th:only-of-type {\n        vertical-align: middle;\n    }\n\n    .dataframe tbody tr th {\n        vertical-align: top;\n    }\n\n    .dataframe thead th {\n        text-align: right;\n    }\n</style>\n<table border=\"1\" class=\"dataframe\">\n  <thead>\n    <tr style=\"text-align: right;\">\n      <th></th>\n      <th>Width</th>\n      <th>Height</th>\n      <th>Roi.X1</th>\n      <th>Roi.Y1</th>\n      <th>Roi.X2</th>\n      <th>Roi.Y2</th>\n      <th>ClassId</th>\n      <th>Path</th>\n    </tr>\n  </thead>\n  <tbody>\n    <tr>\n      <th>0</th>\n      <td>27</td>\n      <td>26</td>\n      <td>5</td>\n      <td>5</td>\n      <td>22</td>\n      <td>20</td>\n      <td>20</td>\n      <td>Train/20/00020_00000_00000.png</td>\n    </tr>\n    <tr>\n      <th>1</th>\n      <td>28</td>\n      <td>27</td>\n      <td>5</td>\n      <td>6</td>\n      <td>23</td>\n      <td>22</td>\n      <td>20</td>\n      <td>Train/20/00020_00000_00001.png</td>\n    </tr>\n    <tr>\n      <th>2</th>\n      <td>29</td>\n      <td>26</td>\n      <td>6</td>\n      <td>5</td>\n      <td>24</td>\n      <td>21</td>\n      <td>20</td>\n      <td>Train/20/00020_00000_00002.png</td>\n    </tr>\n    <tr>\n      <th>3</th>\n      <td>28</td>\n      <td>27</td>\n      <td>5</td>\n      <td>6</td>\n      <td>23</td>\n      <td>22</td>\n      <td>20</td>\n      <td>Train/20/00020_00000_00003.png</td>\n    </tr>\n    <tr>\n      <th>4</th>\n      <td>28</td>\n      <td>26</td>\n      <td>5</td>\n      <td>5</td>\n      <td>23</td>\n      <td>21</td>\n      <td>20</td>\n      <td>Train/20/00020_00000_00004.png</td>\n    </tr>\n  </tbody>\n</table>\n</div>"
     },
     "metadata": {},
     "execution_count": 3
    }
   ],
   "source": [
    "training_set = pd.read_csv(os.path.dirname(os.getcwd()) + os.sep + 'data' + os.sep + \"Train.csv\")\n",
    "training_set.head()"
   ]
  },
  {
   "cell_type": "code",
   "execution_count": 4,
   "metadata": {},
   "outputs": [
    {
     "output_type": "execute_result",
     "data": {
      "text/plain": [
       "   Width  Height  Roi.X1  Roi.Y1  Roi.X2  Roi.Y2  ClassId            Path\n",
       "0     53      54       6       5      48      49       16  Test/00000.png\n",
       "1     42      45       5       5      36      40        1  Test/00001.png\n",
       "2     48      52       6       6      43      47       38  Test/00002.png\n",
       "3     27      29       5       5      22      24       33  Test/00003.png\n",
       "4     60      57       5       5      55      52       11  Test/00004.png"
      ],
      "text/html": "<div>\n<style scoped>\n    .dataframe tbody tr th:only-of-type {\n        vertical-align: middle;\n    }\n\n    .dataframe tbody tr th {\n        vertical-align: top;\n    }\n\n    .dataframe thead th {\n        text-align: right;\n    }\n</style>\n<table border=\"1\" class=\"dataframe\">\n  <thead>\n    <tr style=\"text-align: right;\">\n      <th></th>\n      <th>Width</th>\n      <th>Height</th>\n      <th>Roi.X1</th>\n      <th>Roi.Y1</th>\n      <th>Roi.X2</th>\n      <th>Roi.Y2</th>\n      <th>ClassId</th>\n      <th>Path</th>\n    </tr>\n  </thead>\n  <tbody>\n    <tr>\n      <th>0</th>\n      <td>53</td>\n      <td>54</td>\n      <td>6</td>\n      <td>5</td>\n      <td>48</td>\n      <td>49</td>\n      <td>16</td>\n      <td>Test/00000.png</td>\n    </tr>\n    <tr>\n      <th>1</th>\n      <td>42</td>\n      <td>45</td>\n      <td>5</td>\n      <td>5</td>\n      <td>36</td>\n      <td>40</td>\n      <td>1</td>\n      <td>Test/00001.png</td>\n    </tr>\n    <tr>\n      <th>2</th>\n      <td>48</td>\n      <td>52</td>\n      <td>6</td>\n      <td>6</td>\n      <td>43</td>\n      <td>47</td>\n      <td>38</td>\n      <td>Test/00002.png</td>\n    </tr>\n    <tr>\n      <th>3</th>\n      <td>27</td>\n      <td>29</td>\n      <td>5</td>\n      <td>5</td>\n      <td>22</td>\n      <td>24</td>\n      <td>33</td>\n      <td>Test/00003.png</td>\n    </tr>\n    <tr>\n      <th>4</th>\n      <td>60</td>\n      <td>57</td>\n      <td>5</td>\n      <td>5</td>\n      <td>55</td>\n      <td>52</td>\n      <td>11</td>\n      <td>Test/00004.png</td>\n    </tr>\n  </tbody>\n</table>\n</div>"
     },
     "metadata": {},
     "execution_count": 4
    }
   ],
   "source": [
    "test_set = pd.read_csv(os.path.dirname(os.getcwd()) + os.sep + 'data' + os.sep + \"Test.csv\")\n",
    "test_set.head()"
   ]
  },
  {
   "cell_type": "code",
   "execution_count": 5,
   "metadata": {},
   "outputs": [
    {
     "output_type": "stream",
     "name": "stdout",
     "text": [
      "Dataset Training: (39209, 8)\nDataset Test: (12630, 8)\n"
     ]
    }
   ],
   "source": [
    "print(\"Dataset Training:\",training_set.shape)\n",
    "print(\"Dataset Test:\",test_set.shape)"
   ]
  },
  {
   "cell_type": "code",
   "execution_count": 6,
   "metadata": {},
   "outputs": [
    {
     "output_type": "display_data",
     "data": {
      "text/plain": "<Figure size 432x288 with 1 Axes>",
      "image/svg+xml": "<?xml version=\"1.0\" encoding=\"utf-8\" standalone=\"no\"?>\r\n<!DOCTYPE svg PUBLIC \"-//W3C//DTD SVG 1.1//EN\"\r\n  \"http://www.w3.org/Graphics/SVG/1.1/DTD/svg11.dtd\">\r\n<svg height=\"277.314375pt\" version=\"1.1\" viewBox=\"0 0 395.328125 277.314375\" width=\"395.328125pt\" xmlns=\"http://www.w3.org/2000/svg\" xmlns:xlink=\"http://www.w3.org/1999/xlink\">\r\n <metadata>\r\n  <rdf:RDF xmlns:cc=\"http://creativecommons.org/ns#\" xmlns:dc=\"http://purl.org/dc/elements/1.1/\" xmlns:rdf=\"http://www.w3.org/1999/02/22-rdf-syntax-ns#\">\r\n   <cc:Work>\r\n    <dc:type rdf:resource=\"http://purl.org/dc/dcmitype/StillImage\"/>\r\n    <dc:date>2021-07-06T12:02:08.320184</dc:date>\r\n    <dc:format>image/svg+xml</dc:format>\r\n    <dc:creator>\r\n     <cc:Agent>\r\n      <dc:title>Matplotlib v3.4.1, https://matplotlib.org/</dc:title>\r\n     </cc:Agent>\r\n    </dc:creator>\r\n   </cc:Work>\r\n  </rdf:RDF>\r\n </metadata>\r\n <defs>\r\n  <style type=\"text/css\">*{stroke-linecap:butt;stroke-linejoin:round;}</style>\r\n </defs>\r\n <g id=\"figure_1\">\r\n  <g id=\"patch_1\">\r\n   <path d=\"M 0 277.314375 \r\nL 395.328125 277.314375 \r\nL 395.328125 0 \r\nL 0 0 \r\nz\r\n\" style=\"fill:none;\"/>\r\n  </g>\r\n  <g id=\"axes_1\">\r\n   <g id=\"patch_2\">\r\n    <path d=\"M 53.328125 239.758125 \r\nL 388.128125 239.758125 \r\nL 388.128125 22.318125 \r\nL 53.328125 22.318125 \r\nz\r\n\" style=\"fill:#ffffff;\"/>\r\n   </g>\r\n   <g id=\"patch_3\">\r\n    <path clip-path=\"url(#p58b17e7d7c)\" d=\"M 68.546307 239.758125 \r\nL 74.235347 239.758125 \r\nL 74.235347 32.672411 \r\nL 68.546307 32.672411 \r\nz\r\n\" style=\"fill:#ff69b4;\"/>\r\n   </g>\r\n   <g id=\"patch_4\">\r\n    <path clip-path=\"url(#p58b17e7d7c)\" d=\"M 75.657607 239.758125 \r\nL 81.346647 239.758125 \r\nL 81.346647 35.433554 \r\nL 75.657607 35.433554 \r\nz\r\n\" style=\"fill:#ff69b4;\"/>\r\n   </g>\r\n   <g id=\"patch_5\">\r\n    <path clip-path=\"url(#p58b17e7d7c)\" d=\"M 82.768907 239.758125 \r\nL 88.457947 239.758125 \r\nL 88.457947 40.955839 \r\nL 82.768907 40.955839 \r\nz\r\n\" style=\"fill:#ff69b4;\"/>\r\n   </g>\r\n   <g id=\"patch_6\">\r\n    <path clip-path=\"url(#p58b17e7d7c)\" d=\"M 89.880207 239.758125 \r\nL 95.569246 239.758125 \r\nL 95.569246 46.478125 \r\nL 89.880207 46.478125 \r\nz\r\n\" style=\"fill:#ff69b4;\"/>\r\n   </g>\r\n   <g id=\"patch_7\">\r\n    <path clip-path=\"url(#p58b17e7d7c)\" d=\"M 96.991506 239.758125 \r\nL 102.680546 239.758125 \r\nL 102.680546 49.239268 \r\nL 96.991506 49.239268 \r\nz\r\n\" style=\"fill:#ff69b4;\"/>\r\n   </g>\r\n   <g id=\"patch_8\">\r\n    <path clip-path=\"url(#p58b17e7d7c)\" d=\"M 104.102806 239.758125 \r\nL 109.791846 239.758125 \r\nL 109.791846 54.761554 \r\nL 104.102806 54.761554 \r\nz\r\n\" style=\"fill:#ff69b4;\"/>\r\n   </g>\r\n   <g id=\"patch_9\">\r\n    <path clip-path=\"url(#p58b17e7d7c)\" d=\"M 111.214106 239.758125 \r\nL 116.903146 239.758125 \r\nL 116.903146 57.522696 \r\nL 111.214106 57.522696 \r\nz\r\n\" style=\"fill:#ff69b4;\"/>\r\n   </g>\r\n   <g id=\"patch_10\">\r\n    <path clip-path=\"url(#p58b17e7d7c)\" d=\"M 118.325406 239.758125 \r\nL 124.014446 239.758125 \r\nL 124.014446 68.567268 \r\nL 118.325406 68.567268 \r\nz\r\n\" style=\"fill:#ff69b4;\"/>\r\n   </g>\r\n   <g id=\"patch_11\">\r\n    <path clip-path=\"url(#p58b17e7d7c)\" d=\"M 125.436706 239.758125 \r\nL 131.125746 239.758125 \r\nL 131.125746 101.700982 \r\nL 125.436706 101.700982 \r\nz\r\n\" style=\"fill:#ff69b4;\"/>\r\n   </g>\r\n   <g id=\"patch_12\">\r\n    <path clip-path=\"url(#p58b17e7d7c)\" d=\"M 132.548006 239.758125 \r\nL 138.237046 239.758125 \r\nL 138.237046 104.462125 \r\nL 132.548006 104.462125 \r\nz\r\n\" style=\"fill:#ff69b4;\"/>\r\n   </g>\r\n   <g id=\"patch_13\">\r\n    <path clip-path=\"url(#p58b17e7d7c)\" d=\"M 139.659306 239.758125 \r\nL 145.348346 239.758125 \r\nL 145.348346 107.223268 \r\nL 139.659306 107.223268 \r\nz\r\n\" style=\"fill:#ff69b4;\"/>\r\n   </g>\r\n   <g id=\"patch_14\">\r\n    <path clip-path=\"url(#p58b17e7d7c)\" d=\"M 146.770606 239.758125 \r\nL 152.459646 239.758125 \r\nL 152.459646 109.984411 \r\nL 146.770606 109.984411 \r\nz\r\n\" style=\"fill:#ff69b4;\"/>\r\n   </g>\r\n   <g id=\"patch_15\">\r\n    <path clip-path=\"url(#p58b17e7d7c)\" d=\"M 153.881906 239.758125 \r\nL 159.570946 239.758125 \r\nL 159.570946 109.984411 \r\nL 153.881906 109.984411 \r\nz\r\n\" style=\"fill:#ff69b4;\"/>\r\n   </g>\r\n   <g id=\"patch_16\">\r\n    <path clip-path=\"url(#p58b17e7d7c)\" d=\"M 160.993206 239.758125 \r\nL 166.682246 239.758125 \r\nL 166.682246 118.267839 \r\nL 160.993206 118.267839 \r\nz\r\n\" style=\"fill:#ff69b4;\"/>\r\n   </g>\r\n   <g id=\"patch_17\">\r\n    <path clip-path=\"url(#p58b17e7d7c)\" d=\"M 168.104506 239.758125 \r\nL 173.793546 239.758125 \r\nL 173.793546 129.312411 \r\nL 168.104506 129.312411 \r\nz\r\n\" style=\"fill:#ff69b4;\"/>\r\n   </g>\r\n   <g id=\"patch_18\">\r\n    <path clip-path=\"url(#p58b17e7d7c)\" d=\"M 175.215806 239.758125 \r\nL 180.904845 239.758125 \r\nL 180.904845 129.312411 \r\nL 175.215806 129.312411 \r\nz\r\n\" style=\"fill:#ff69b4;\"/>\r\n   </g>\r\n   <g id=\"patch_19\">\r\n    <path clip-path=\"url(#p58b17e7d7c)\" d=\"M 182.327105 239.758125 \r\nL 188.016145 239.758125 \r\nL 188.016145 137.595839 \r\nL 182.327105 137.595839 \r\nz\r\n\" style=\"fill:#ff69b4;\"/>\r\n   </g>\r\n   <g id=\"patch_20\">\r\n    <path clip-path=\"url(#p58b17e7d7c)\" d=\"M 189.438405 239.758125 \r\nL 195.127445 239.758125 \r\nL 195.127445 167.968411 \r\nL 189.438405 167.968411 \r\nz\r\n\" style=\"fill:#ff69b4;\"/>\r\n   </g>\r\n   <g id=\"patch_21\">\r\n    <path clip-path=\"url(#p58b17e7d7c)\" d=\"M 196.549705 239.758125 \r\nL 202.238745 239.758125 \r\nL 202.238745 167.968411 \r\nL 196.549705 167.968411 \r\nz\r\n\" style=\"fill:#ff69b4;\"/>\r\n   </g>\r\n   <g id=\"patch_22\">\r\n    <path clip-path=\"url(#p58b17e7d7c)\" d=\"M 203.661005 239.758125 \r\nL 209.350045 239.758125 \r\nL 209.350045 176.343877 \r\nL 203.661005 176.343877 \r\nz\r\n\" style=\"fill:#ff69b4;\"/>\r\n   </g>\r\n   <g id=\"patch_23\">\r\n    <path clip-path=\"url(#p58b17e7d7c)\" d=\"M 210.772305 239.758125 \r\nL 216.461345 239.758125 \r\nL 216.461345 181.774125 \r\nL 210.772305 181.774125 \r\nz\r\n\" style=\"fill:#ff69b4;\"/>\r\n   </g>\r\n   <g id=\"patch_24\">\r\n    <path clip-path=\"url(#p58b17e7d7c)\" d=\"M 217.883605 239.758125 \r\nL 223.572645 239.758125 \r\nL 223.572645 184.535268 \r\nL 217.883605 184.535268 \r\nz\r\n\" style=\"fill:#ff69b4;\"/>\r\n   </g>\r\n   <g id=\"patch_25\">\r\n    <path clip-path=\"url(#p58b17e7d7c)\" d=\"M 224.994905 239.758125 \r\nL 230.683945 239.758125 \r\nL 230.683945 190.057554 \r\nL 224.994905 190.057554 \r\nz\r\n\" style=\"fill:#ff69b4;\"/>\r\n   </g>\r\n   <g id=\"patch_26\">\r\n    <path clip-path=\"url(#p58b17e7d7c)\" d=\"M 232.106205 239.758125 \r\nL 237.795245 239.758125 \r\nL 237.795245 192.818696 \r\nL 232.106205 192.818696 \r\nz\r\n\" style=\"fill:#ff69b4;\"/>\r\n   </g>\r\n   <g id=\"patch_27\">\r\n    <path clip-path=\"url(#p58b17e7d7c)\" d=\"M 239.217505 239.758125 \r\nL 244.906545 239.758125 \r\nL 244.906545 198.340982 \r\nL 239.217505 198.340982 \r\nz\r\n\" style=\"fill:#ff69b4;\"/>\r\n   </g>\r\n   <g id=\"patch_28\">\r\n    <path clip-path=\"url(#p58b17e7d7c)\" d=\"M 246.328805 239.758125 \r\nL 252.017845 239.758125 \r\nL 252.017845 201.102125 \r\nL 246.328805 201.102125 \r\nz\r\n\" style=\"fill:#ff69b4;\"/>\r\n   </g>\r\n   <g id=\"patch_29\">\r\n    <path clip-path=\"url(#p58b17e7d7c)\" d=\"M 253.440105 239.758125 \r\nL 259.129145 239.758125 \r\nL 259.129145 201.102125 \r\nL 253.440105 201.102125 \r\nz\r\n\" style=\"fill:#ff69b4;\"/>\r\n   </g>\r\n   <g id=\"patch_30\">\r\n    <path clip-path=\"url(#p58b17e7d7c)\" d=\"M 260.551405 239.758125 \r\nL 266.240444 239.758125 \r\nL 266.240444 201.102125 \r\nL 260.551405 201.102125 \r\nz\r\n\" style=\"fill:#ff69b4;\"/>\r\n   </g>\r\n   <g id=\"patch_31\">\r\n    <path clip-path=\"url(#p58b17e7d7c)\" d=\"M 267.662704 239.758125 \r\nL 273.351744 239.758125 \r\nL 273.351744 203.863268 \r\nL 267.662704 203.863268 \r\nz\r\n\" style=\"fill:#ff69b4;\"/>\r\n   </g>\r\n   <g id=\"patch_32\">\r\n    <path clip-path=\"url(#p58b17e7d7c)\" d=\"M 274.774004 239.758125 \r\nL 280.463044 239.758125 \r\nL 280.463044 203.863268 \r\nL 274.774004 203.863268 \r\nz\r\n\" style=\"fill:#ff69b4;\"/>\r\n   </g>\r\n   <g id=\"patch_33\">\r\n    <path clip-path=\"url(#p58b17e7d7c)\" d=\"M 281.885304 239.758125 \r\nL 287.574344 239.758125 \r\nL 287.574344 206.624411 \r\nL 281.885304 206.624411 \r\nz\r\n\" style=\"fill:#ff69b4;\"/>\r\n   </g>\r\n   <g id=\"patch_34\">\r\n    <path clip-path=\"url(#p58b17e7d7c)\" d=\"M 288.996604 239.758125 \r\nL 294.685644 239.758125 \r\nL 294.685644 206.624411 \r\nL 288.996604 206.624411 \r\nz\r\n\" style=\"fill:#ff69b4;\"/>\r\n   </g>\r\n   <g id=\"patch_35\">\r\n    <path clip-path=\"url(#p58b17e7d7c)\" d=\"M 296.107904 239.758125 \r\nL 301.796944 239.758125 \r\nL 301.796944 209.385554 \r\nL 296.107904 209.385554 \r\nz\r\n\" style=\"fill:#ff69b4;\"/>\r\n   </g>\r\n   <g id=\"patch_36\">\r\n    <path clip-path=\"url(#p58b17e7d7c)\" d=\"M 303.219204 239.758125 \r\nL 308.908244 239.758125 \r\nL 308.908244 212.146696 \r\nL 303.219204 212.146696 \r\nz\r\n\" style=\"fill:#ff69b4;\"/>\r\n   </g>\r\n   <g id=\"patch_37\">\r\n    <path clip-path=\"url(#p58b17e7d7c)\" d=\"M 310.330504 239.758125 \r\nL 316.019544 239.758125 \r\nL 316.019544 214.907839 \r\nL 310.330504 214.907839 \r\nz\r\n\" style=\"fill:#ff69b4;\"/>\r\n   </g>\r\n   <g id=\"patch_38\">\r\n    <path clip-path=\"url(#p58b17e7d7c)\" d=\"M 317.441804 239.758125 \r\nL 323.130844 239.758125 \r\nL 323.130844 214.907839 \r\nL 317.441804 214.907839 \r\nz\r\n\" style=\"fill:#ff69b4;\"/>\r\n   </g>\r\n   <g id=\"patch_39\">\r\n    <path clip-path=\"url(#p58b17e7d7c)\" d=\"M 324.553104 239.758125 \r\nL 330.242144 239.758125 \r\nL 330.242144 217.668982 \r\nL 324.553104 217.668982 \r\nz\r\n\" style=\"fill:#ff69b4;\"/>\r\n   </g>\r\n   <g id=\"patch_40\">\r\n    <path clip-path=\"url(#p58b17e7d7c)\" d=\"M 331.664404 239.758125 \r\nL 337.353444 239.758125 \r\nL 337.353444 217.668982 \r\nL 331.664404 217.668982 \r\nz\r\n\" style=\"fill:#ff69b4;\"/>\r\n   </g>\r\n   <g id=\"patch_41\">\r\n    <path clip-path=\"url(#p58b17e7d7c)\" d=\"M 338.775704 239.758125 \r\nL 344.464744 239.758125 \r\nL 344.464744 217.668982 \r\nL 338.775704 217.668982 \r\nz\r\n\" style=\"fill:#ff69b4;\"/>\r\n   </g>\r\n   <g id=\"patch_42\">\r\n    <path clip-path=\"url(#p58b17e7d7c)\" d=\"M 345.887004 239.758125 \r\nL 351.576043 239.758125 \r\nL 351.576043 217.668982 \r\nL 345.887004 217.668982 \r\nz\r\n\" style=\"fill:#ff69b4;\"/>\r\n   </g>\r\n   <g id=\"patch_43\">\r\n    <path clip-path=\"url(#p58b17e7d7c)\" d=\"M 352.998303 239.758125 \r\nL 358.687343 239.758125 \r\nL 358.687343 220.430125 \r\nL 352.998303 220.430125 \r\nz\r\n\" style=\"fill:#ff69b4;\"/>\r\n   </g>\r\n   <g id=\"patch_44\">\r\n    <path clip-path=\"url(#p58b17e7d7c)\" d=\"M 360.109603 239.758125 \r\nL 365.798643 239.758125 \r\nL 365.798643 220.430125 \r\nL 360.109603 220.430125 \r\nz\r\n\" style=\"fill:#ff69b4;\"/>\r\n   </g>\r\n   <g id=\"patch_45\">\r\n    <path clip-path=\"url(#p58b17e7d7c)\" d=\"M 367.220903 239.758125 \r\nL 372.909943 239.758125 \r\nL 372.909943 220.430125 \r\nL 367.220903 220.430125 \r\nz\r\n\" style=\"fill:#ff69b4;\"/>\r\n   </g>\r\n   <g id=\"matplotlib.axis_1\">\r\n    <g id=\"xtick_1\">\r\n     <g id=\"line2d_1\">\r\n      <defs>\r\n       <path d=\"M 0 0 \r\nL 0 3.5 \r\n\" id=\"mad7da186fb\" style=\"stroke:#000000;stroke-width:0.8;\"/>\r\n      </defs>\r\n      <g>\r\n       <use style=\"stroke:#000000;stroke-width:0.8;\" x=\"71.390827\" xlink:href=\"#mad7da186fb\" y=\"239.758125\"/>\r\n      </g>\r\n     </g>\r\n     <g id=\"text_1\">\r\n      <!-- 0 -->\r\n      <g transform=\"translate(68.209577 254.356562)scale(0.1 -0.1)\">\r\n       <defs>\r\n        <path d=\"M 2034 4250 \r\nQ 1547 4250 1301 3770 \r\nQ 1056 3291 1056 2328 \r\nQ 1056 1369 1301 889 \r\nQ 1547 409 2034 409 \r\nQ 2525 409 2770 889 \r\nQ 3016 1369 3016 2328 \r\nQ 3016 3291 2770 3770 \r\nQ 2525 4250 2034 4250 \r\nz\r\nM 2034 4750 \r\nQ 2819 4750 3233 4129 \r\nQ 3647 3509 3647 2328 \r\nQ 3647 1150 3233 529 \r\nQ 2819 -91 2034 -91 \r\nQ 1250 -91 836 529 \r\nQ 422 1150 422 2328 \r\nQ 422 3509 836 4129 \r\nQ 1250 4750 2034 4750 \r\nz\r\n\" id=\"DejaVuSans-30\" transform=\"scale(0.015625)\"/>\r\n       </defs>\r\n       <use xlink:href=\"#DejaVuSans-30\"/>\r\n      </g>\r\n     </g>\r\n    </g>\r\n    <g id=\"xtick_2\">\r\n     <g id=\"line2d_2\">\r\n      <g>\r\n       <use style=\"stroke:#000000;stroke-width:0.8;\" x=\"142.503826\" xlink:href=\"#mad7da186fb\" y=\"239.758125\"/>\r\n      </g>\r\n     </g>\r\n     <g id=\"text_2\">\r\n      <!-- 10 -->\r\n      <g transform=\"translate(136.141326 254.356562)scale(0.1 -0.1)\">\r\n       <defs>\r\n        <path d=\"M 794 531 \r\nL 1825 531 \r\nL 1825 4091 \r\nL 703 3866 \r\nL 703 4441 \r\nL 1819 4666 \r\nL 2450 4666 \r\nL 2450 531 \r\nL 3481 531 \r\nL 3481 0 \r\nL 794 0 \r\nL 794 531 \r\nz\r\n\" id=\"DejaVuSans-31\" transform=\"scale(0.015625)\"/>\r\n       </defs>\r\n       <use xlink:href=\"#DejaVuSans-31\"/>\r\n       <use x=\"63.623047\" xlink:href=\"#DejaVuSans-30\"/>\r\n      </g>\r\n     </g>\r\n    </g>\r\n    <g id=\"xtick_3\">\r\n     <g id=\"line2d_3\">\r\n      <g>\r\n       <use style=\"stroke:#000000;stroke-width:0.8;\" x=\"213.616825\" xlink:href=\"#mad7da186fb\" y=\"239.758125\"/>\r\n      </g>\r\n     </g>\r\n     <g id=\"text_3\">\r\n      <!-- 20 -->\r\n      <g transform=\"translate(207.254325 254.356562)scale(0.1 -0.1)\">\r\n       <defs>\r\n        <path d=\"M 1228 531 \r\nL 3431 531 \r\nL 3431 0 \r\nL 469 0 \r\nL 469 531 \r\nQ 828 903 1448 1529 \r\nQ 2069 2156 2228 2338 \r\nQ 2531 2678 2651 2914 \r\nQ 2772 3150 2772 3378 \r\nQ 2772 3750 2511 3984 \r\nQ 2250 4219 1831 4219 \r\nQ 1534 4219 1204 4116 \r\nQ 875 4013 500 3803 \r\nL 500 4441 \r\nQ 881 4594 1212 4672 \r\nQ 1544 4750 1819 4750 \r\nQ 2544 4750 2975 4387 \r\nQ 3406 4025 3406 3419 \r\nQ 3406 3131 3298 2873 \r\nQ 3191 2616 2906 2266 \r\nQ 2828 2175 2409 1742 \r\nQ 1991 1309 1228 531 \r\nz\r\n\" id=\"DejaVuSans-32\" transform=\"scale(0.015625)\"/>\r\n       </defs>\r\n       <use xlink:href=\"#DejaVuSans-32\"/>\r\n       <use x=\"63.623047\" xlink:href=\"#DejaVuSans-30\"/>\r\n      </g>\r\n     </g>\r\n    </g>\r\n    <g id=\"xtick_4\">\r\n     <g id=\"line2d_4\">\r\n      <g>\r\n       <use style=\"stroke:#000000;stroke-width:0.8;\" x=\"284.729824\" xlink:href=\"#mad7da186fb\" y=\"239.758125\"/>\r\n      </g>\r\n     </g>\r\n     <g id=\"text_4\">\r\n      <!-- 30 -->\r\n      <g transform=\"translate(278.367324 254.356562)scale(0.1 -0.1)\">\r\n       <defs>\r\n        <path d=\"M 2597 2516 \r\nQ 3050 2419 3304 2112 \r\nQ 3559 1806 3559 1356 \r\nQ 3559 666 3084 287 \r\nQ 2609 -91 1734 -91 \r\nQ 1441 -91 1130 -33 \r\nQ 819 25 488 141 \r\nL 488 750 \r\nQ 750 597 1062 519 \r\nQ 1375 441 1716 441 \r\nQ 2309 441 2620 675 \r\nQ 2931 909 2931 1356 \r\nQ 2931 1769 2642 2001 \r\nQ 2353 2234 1838 2234 \r\nL 1294 2234 \r\nL 1294 2753 \r\nL 1863 2753 \r\nQ 2328 2753 2575 2939 \r\nQ 2822 3125 2822 3475 \r\nQ 2822 3834 2567 4026 \r\nQ 2313 4219 1838 4219 \r\nQ 1578 4219 1281 4162 \r\nQ 984 4106 628 3988 \r\nL 628 4550 \r\nQ 988 4650 1302 4700 \r\nQ 1616 4750 1894 4750 \r\nQ 2613 4750 3031 4423 \r\nQ 3450 4097 3450 3541 \r\nQ 3450 3153 3228 2886 \r\nQ 3006 2619 2597 2516 \r\nz\r\n\" id=\"DejaVuSans-33\" transform=\"scale(0.015625)\"/>\r\n       </defs>\r\n       <use xlink:href=\"#DejaVuSans-33\"/>\r\n       <use x=\"63.623047\" xlink:href=\"#DejaVuSans-30\"/>\r\n      </g>\r\n     </g>\r\n    </g>\r\n    <g id=\"xtick_5\">\r\n     <g id=\"line2d_5\">\r\n      <g>\r\n       <use style=\"stroke:#000000;stroke-width:0.8;\" x=\"355.842823\" xlink:href=\"#mad7da186fb\" y=\"239.758125\"/>\r\n      </g>\r\n     </g>\r\n     <g id=\"text_5\">\r\n      <!-- 40 -->\r\n      <g transform=\"translate(349.480323 254.356562)scale(0.1 -0.1)\">\r\n       <defs>\r\n        <path d=\"M 2419 4116 \r\nL 825 1625 \r\nL 2419 1625 \r\nL 2419 4116 \r\nz\r\nM 2253 4666 \r\nL 3047 4666 \r\nL 3047 1625 \r\nL 3713 1625 \r\nL 3713 1100 \r\nL 3047 1100 \r\nL 3047 0 \r\nL 2419 0 \r\nL 2419 1100 \r\nL 313 1100 \r\nL 313 1709 \r\nL 2253 4666 \r\nz\r\n\" id=\"DejaVuSans-34\" transform=\"scale(0.015625)\"/>\r\n       </defs>\r\n       <use xlink:href=\"#DejaVuSans-34\"/>\r\n       <use x=\"63.623047\" xlink:href=\"#DejaVuSans-30\"/>\r\n      </g>\r\n     </g>\r\n    </g>\r\n    <g id=\"text_6\">\r\n     <!-- Class ID -->\r\n     <g transform=\"translate(200.660156 268.034687)scale(0.1 -0.1)\">\r\n      <defs>\r\n       <path d=\"M 4122 4306 \r\nL 4122 3641 \r\nQ 3803 3938 3442 4084 \r\nQ 3081 4231 2675 4231 \r\nQ 1875 4231 1450 3742 \r\nQ 1025 3253 1025 2328 \r\nQ 1025 1406 1450 917 \r\nQ 1875 428 2675 428 \r\nQ 3081 428 3442 575 \r\nQ 3803 722 4122 1019 \r\nL 4122 359 \r\nQ 3791 134 3420 21 \r\nQ 3050 -91 2638 -91 \r\nQ 1578 -91 968 557 \r\nQ 359 1206 359 2328 \r\nQ 359 3453 968 4101 \r\nQ 1578 4750 2638 4750 \r\nQ 3056 4750 3426 4639 \r\nQ 3797 4528 4122 4306 \r\nz\r\n\" id=\"DejaVuSans-43\" transform=\"scale(0.015625)\"/>\r\n       <path d=\"M 603 4863 \r\nL 1178 4863 \r\nL 1178 0 \r\nL 603 0 \r\nL 603 4863 \r\nz\r\n\" id=\"DejaVuSans-6c\" transform=\"scale(0.015625)\"/>\r\n       <path d=\"M 2194 1759 \r\nQ 1497 1759 1228 1600 \r\nQ 959 1441 959 1056 \r\nQ 959 750 1161 570 \r\nQ 1363 391 1709 391 \r\nQ 2188 391 2477 730 \r\nQ 2766 1069 2766 1631 \r\nL 2766 1759 \r\nL 2194 1759 \r\nz\r\nM 3341 1997 \r\nL 3341 0 \r\nL 2766 0 \r\nL 2766 531 \r\nQ 2569 213 2275 61 \r\nQ 1981 -91 1556 -91 \r\nQ 1019 -91 701 211 \r\nQ 384 513 384 1019 \r\nQ 384 1609 779 1909 \r\nQ 1175 2209 1959 2209 \r\nL 2766 2209 \r\nL 2766 2266 \r\nQ 2766 2663 2505 2880 \r\nQ 2244 3097 1772 3097 \r\nQ 1472 3097 1187 3025 \r\nQ 903 2953 641 2809 \r\nL 641 3341 \r\nQ 956 3463 1253 3523 \r\nQ 1550 3584 1831 3584 \r\nQ 2591 3584 2966 3190 \r\nQ 3341 2797 3341 1997 \r\nz\r\n\" id=\"DejaVuSans-61\" transform=\"scale(0.015625)\"/>\r\n       <path d=\"M 2834 3397 \r\nL 2834 2853 \r\nQ 2591 2978 2328 3040 \r\nQ 2066 3103 1784 3103 \r\nQ 1356 3103 1142 2972 \r\nQ 928 2841 928 2578 \r\nQ 928 2378 1081 2264 \r\nQ 1234 2150 1697 2047 \r\nL 1894 2003 \r\nQ 2506 1872 2764 1633 \r\nQ 3022 1394 3022 966 \r\nQ 3022 478 2636 193 \r\nQ 2250 -91 1575 -91 \r\nQ 1294 -91 989 -36 \r\nQ 684 19 347 128 \r\nL 347 722 \r\nQ 666 556 975 473 \r\nQ 1284 391 1588 391 \r\nQ 1994 391 2212 530 \r\nQ 2431 669 2431 922 \r\nQ 2431 1156 2273 1281 \r\nQ 2116 1406 1581 1522 \r\nL 1381 1569 \r\nQ 847 1681 609 1914 \r\nQ 372 2147 372 2553 \r\nQ 372 3047 722 3315 \r\nQ 1072 3584 1716 3584 \r\nQ 2034 3584 2315 3537 \r\nQ 2597 3491 2834 3397 \r\nz\r\n\" id=\"DejaVuSans-73\" transform=\"scale(0.015625)\"/>\r\n       <path id=\"DejaVuSans-20\" transform=\"scale(0.015625)\"/>\r\n       <path d=\"M 628 4666 \r\nL 1259 4666 \r\nL 1259 0 \r\nL 628 0 \r\nL 628 4666 \r\nz\r\n\" id=\"DejaVuSans-49\" transform=\"scale(0.015625)\"/>\r\n       <path d=\"M 1259 4147 \r\nL 1259 519 \r\nL 2022 519 \r\nQ 2988 519 3436 956 \r\nQ 3884 1394 3884 2338 \r\nQ 3884 3275 3436 3711 \r\nQ 2988 4147 2022 4147 \r\nL 1259 4147 \r\nz\r\nM 628 4666 \r\nL 1925 4666 \r\nQ 3281 4666 3915 4102 \r\nQ 4550 3538 4550 2338 \r\nQ 4550 1131 3912 565 \r\nQ 3275 0 1925 0 \r\nL 628 0 \r\nL 628 4666 \r\nz\r\n\" id=\"DejaVuSans-44\" transform=\"scale(0.015625)\"/>\r\n      </defs>\r\n      <use xlink:href=\"#DejaVuSans-43\"/>\r\n      <use x=\"69.824219\" xlink:href=\"#DejaVuSans-6c\"/>\r\n      <use x=\"97.607422\" xlink:href=\"#DejaVuSans-61\"/>\r\n      <use x=\"158.886719\" xlink:href=\"#DejaVuSans-73\"/>\r\n      <use x=\"210.986328\" xlink:href=\"#DejaVuSans-73\"/>\r\n      <use x=\"263.085938\" xlink:href=\"#DejaVuSans-20\"/>\r\n      <use x=\"294.873047\" xlink:href=\"#DejaVuSans-49\"/>\r\n      <use x=\"324.365234\" xlink:href=\"#DejaVuSans-44\"/>\r\n     </g>\r\n    </g>\r\n   </g>\r\n   <g id=\"matplotlib.axis_2\">\r\n    <g id=\"ytick_1\">\r\n     <g id=\"line2d_6\">\r\n      <defs>\r\n       <path d=\"M 0 0 \r\nL -3.5 0 \r\n\" id=\"m76f6a78ac9\" style=\"stroke:#000000;stroke-width:0.8;\"/>\r\n      </defs>\r\n      <g>\r\n       <use style=\"stroke:#000000;stroke-width:0.8;\" x=\"53.328125\" xlink:href=\"#m76f6a78ac9\" y=\"239.758125\"/>\r\n      </g>\r\n     </g>\r\n     <g id=\"text_7\">\r\n      <!-- 0 -->\r\n      <g transform=\"translate(39.965625 243.557344)scale(0.1 -0.1)\">\r\n       <use xlink:href=\"#DejaVuSans-30\"/>\r\n      </g>\r\n     </g>\r\n    </g>\r\n    <g id=\"ytick_2\">\r\n     <g id=\"line2d_7\">\r\n      <g>\r\n       <use style=\"stroke:#000000;stroke-width:0.8;\" x=\"53.328125\" xlink:href=\"#m76f6a78ac9\" y=\"193.739077\"/>\r\n      </g>\r\n     </g>\r\n     <g id=\"text_8\">\r\n      <!-- 500 -->\r\n      <g transform=\"translate(27.240625 197.538296)scale(0.1 -0.1)\">\r\n       <defs>\r\n        <path d=\"M 691 4666 \r\nL 3169 4666 \r\nL 3169 4134 \r\nL 1269 4134 \r\nL 1269 2991 \r\nQ 1406 3038 1543 3061 \r\nQ 1681 3084 1819 3084 \r\nQ 2600 3084 3056 2656 \r\nQ 3513 2228 3513 1497 \r\nQ 3513 744 3044 326 \r\nQ 2575 -91 1722 -91 \r\nQ 1428 -91 1123 -41 \r\nQ 819 9 494 109 \r\nL 494 744 \r\nQ 775 591 1075 516 \r\nQ 1375 441 1709 441 \r\nQ 2250 441 2565 725 \r\nQ 2881 1009 2881 1497 \r\nQ 2881 1984 2565 2268 \r\nQ 2250 2553 1709 2553 \r\nQ 1456 2553 1204 2497 \r\nQ 953 2441 691 2322 \r\nL 691 4666 \r\nz\r\n\" id=\"DejaVuSans-35\" transform=\"scale(0.015625)\"/>\r\n       </defs>\r\n       <use xlink:href=\"#DejaVuSans-35\"/>\r\n       <use x=\"63.623047\" xlink:href=\"#DejaVuSans-30\"/>\r\n       <use x=\"127.246094\" xlink:href=\"#DejaVuSans-30\"/>\r\n      </g>\r\n     </g>\r\n    </g>\r\n    <g id=\"ytick_3\">\r\n     <g id=\"line2d_8\">\r\n      <g>\r\n       <use style=\"stroke:#000000;stroke-width:0.8;\" x=\"53.328125\" xlink:href=\"#m76f6a78ac9\" y=\"147.72003\"/>\r\n      </g>\r\n     </g>\r\n     <g id=\"text_9\">\r\n      <!-- 1000 -->\r\n      <g transform=\"translate(20.878125 151.519249)scale(0.1 -0.1)\">\r\n       <use xlink:href=\"#DejaVuSans-31\"/>\r\n       <use x=\"63.623047\" xlink:href=\"#DejaVuSans-30\"/>\r\n       <use x=\"127.246094\" xlink:href=\"#DejaVuSans-30\"/>\r\n       <use x=\"190.869141\" xlink:href=\"#DejaVuSans-30\"/>\r\n      </g>\r\n     </g>\r\n    </g>\r\n    <g id=\"ytick_4\">\r\n     <g id=\"line2d_9\">\r\n      <g>\r\n       <use style=\"stroke:#000000;stroke-width:0.8;\" x=\"53.328125\" xlink:href=\"#m76f6a78ac9\" y=\"101.700982\"/>\r\n      </g>\r\n     </g>\r\n     <g id=\"text_10\">\r\n      <!-- 1500 -->\r\n      <g transform=\"translate(20.878125 105.500201)scale(0.1 -0.1)\">\r\n       <use xlink:href=\"#DejaVuSans-31\"/>\r\n       <use x=\"63.623047\" xlink:href=\"#DejaVuSans-35\"/>\r\n       <use x=\"127.246094\" xlink:href=\"#DejaVuSans-30\"/>\r\n       <use x=\"190.869141\" xlink:href=\"#DejaVuSans-30\"/>\r\n      </g>\r\n     </g>\r\n    </g>\r\n    <g id=\"ytick_5\">\r\n     <g id=\"line2d_10\">\r\n      <g>\r\n       <use style=\"stroke:#000000;stroke-width:0.8;\" x=\"53.328125\" xlink:href=\"#m76f6a78ac9\" y=\"55.681935\"/>\r\n      </g>\r\n     </g>\r\n     <g id=\"text_11\">\r\n      <!-- 2000 -->\r\n      <g transform=\"translate(20.878125 59.481153)scale(0.1 -0.1)\">\r\n       <use xlink:href=\"#DejaVuSans-32\"/>\r\n       <use x=\"63.623047\" xlink:href=\"#DejaVuSans-30\"/>\r\n       <use x=\"127.246094\" xlink:href=\"#DejaVuSans-30\"/>\r\n       <use x=\"190.869141\" xlink:href=\"#DejaVuSans-30\"/>\r\n      </g>\r\n     </g>\r\n    </g>\r\n    <g id=\"text_12\">\r\n     <!-- Samples -->\r\n     <g transform=\"translate(14.798438 152.39125)rotate(-90)scale(0.1 -0.1)\">\r\n      <defs>\r\n       <path d=\"M 3425 4513 \r\nL 3425 3897 \r\nQ 3066 4069 2747 4153 \r\nQ 2428 4238 2131 4238 \r\nQ 1616 4238 1336 4038 \r\nQ 1056 3838 1056 3469 \r\nQ 1056 3159 1242 3001 \r\nQ 1428 2844 1947 2747 \r\nL 2328 2669 \r\nQ 3034 2534 3370 2195 \r\nQ 3706 1856 3706 1288 \r\nQ 3706 609 3251 259 \r\nQ 2797 -91 1919 -91 \r\nQ 1588 -91 1214 -16 \r\nQ 841 59 441 206 \r\nL 441 856 \r\nQ 825 641 1194 531 \r\nQ 1563 422 1919 422 \r\nQ 2459 422 2753 634 \r\nQ 3047 847 3047 1241 \r\nQ 3047 1584 2836 1778 \r\nQ 2625 1972 2144 2069 \r\nL 1759 2144 \r\nQ 1053 2284 737 2584 \r\nQ 422 2884 422 3419 \r\nQ 422 4038 858 4394 \r\nQ 1294 4750 2059 4750 \r\nQ 2388 4750 2728 4690 \r\nQ 3069 4631 3425 4513 \r\nz\r\n\" id=\"DejaVuSans-53\" transform=\"scale(0.015625)\"/>\r\n       <path d=\"M 3328 2828 \r\nQ 3544 3216 3844 3400 \r\nQ 4144 3584 4550 3584 \r\nQ 5097 3584 5394 3201 \r\nQ 5691 2819 5691 2113 \r\nL 5691 0 \r\nL 5113 0 \r\nL 5113 2094 \r\nQ 5113 2597 4934 2840 \r\nQ 4756 3084 4391 3084 \r\nQ 3944 3084 3684 2787 \r\nQ 3425 2491 3425 1978 \r\nL 3425 0 \r\nL 2847 0 \r\nL 2847 2094 \r\nQ 2847 2600 2669 2842 \r\nQ 2491 3084 2119 3084 \r\nQ 1678 3084 1418 2786 \r\nQ 1159 2488 1159 1978 \r\nL 1159 0 \r\nL 581 0 \r\nL 581 3500 \r\nL 1159 3500 \r\nL 1159 2956 \r\nQ 1356 3278 1631 3431 \r\nQ 1906 3584 2284 3584 \r\nQ 2666 3584 2933 3390 \r\nQ 3200 3197 3328 2828 \r\nz\r\n\" id=\"DejaVuSans-6d\" transform=\"scale(0.015625)\"/>\r\n       <path d=\"M 1159 525 \r\nL 1159 -1331 \r\nL 581 -1331 \r\nL 581 3500 \r\nL 1159 3500 \r\nL 1159 2969 \r\nQ 1341 3281 1617 3432 \r\nQ 1894 3584 2278 3584 \r\nQ 2916 3584 3314 3078 \r\nQ 3713 2572 3713 1747 \r\nQ 3713 922 3314 415 \r\nQ 2916 -91 2278 -91 \r\nQ 1894 -91 1617 61 \r\nQ 1341 213 1159 525 \r\nz\r\nM 3116 1747 \r\nQ 3116 2381 2855 2742 \r\nQ 2594 3103 2138 3103 \r\nQ 1681 3103 1420 2742 \r\nQ 1159 2381 1159 1747 \r\nQ 1159 1113 1420 752 \r\nQ 1681 391 2138 391 \r\nQ 2594 391 2855 752 \r\nQ 3116 1113 3116 1747 \r\nz\r\n\" id=\"DejaVuSans-70\" transform=\"scale(0.015625)\"/>\r\n       <path d=\"M 3597 1894 \r\nL 3597 1613 \r\nL 953 1613 \r\nQ 991 1019 1311 708 \r\nQ 1631 397 2203 397 \r\nQ 2534 397 2845 478 \r\nQ 3156 559 3463 722 \r\nL 3463 178 \r\nQ 3153 47 2828 -22 \r\nQ 2503 -91 2169 -91 \r\nQ 1331 -91 842 396 \r\nQ 353 884 353 1716 \r\nQ 353 2575 817 3079 \r\nQ 1281 3584 2069 3584 \r\nQ 2775 3584 3186 3129 \r\nQ 3597 2675 3597 1894 \r\nz\r\nM 3022 2063 \r\nQ 3016 2534 2758 2815 \r\nQ 2500 3097 2075 3097 \r\nQ 1594 3097 1305 2825 \r\nQ 1016 2553 972 2059 \r\nL 3022 2063 \r\nz\r\n\" id=\"DejaVuSans-65\" transform=\"scale(0.015625)\"/>\r\n      </defs>\r\n      <use xlink:href=\"#DejaVuSans-53\"/>\r\n      <use x=\"63.476562\" xlink:href=\"#DejaVuSans-61\"/>\r\n      <use x=\"124.755859\" xlink:href=\"#DejaVuSans-6d\"/>\r\n      <use x=\"222.167969\" xlink:href=\"#DejaVuSans-70\"/>\r\n      <use x=\"285.644531\" xlink:href=\"#DejaVuSans-6c\"/>\r\n      <use x=\"313.427734\" xlink:href=\"#DejaVuSans-65\"/>\r\n      <use x=\"374.951172\" xlink:href=\"#DejaVuSans-73\"/>\r\n     </g>\r\n    </g>\r\n   </g>\r\n   <g id=\"patch_46\">\r\n    <path d=\"M 53.328125 239.758125 \r\nL 53.328125 22.318125 \r\n\" style=\"fill:none;stroke:#000000;stroke-linecap:square;stroke-linejoin:miter;stroke-width:0.8;\"/>\r\n   </g>\r\n   <g id=\"patch_47\">\r\n    <path d=\"M 388.128125 239.758125 \r\nL 388.128125 22.318125 \r\n\" style=\"fill:none;stroke:#000000;stroke-linecap:square;stroke-linejoin:miter;stroke-width:0.8;\"/>\r\n   </g>\r\n   <g id=\"patch_48\">\r\n    <path d=\"M 53.328125 239.758125 \r\nL 388.128125 239.758125 \r\n\" style=\"fill:none;stroke:#000000;stroke-linecap:square;stroke-linejoin:miter;stroke-width:0.8;\"/>\r\n   </g>\r\n   <g id=\"patch_49\">\r\n    <path d=\"M 53.328125 22.318125 \r\nL 388.128125 22.318125 \r\n\" style=\"fill:none;stroke:#000000;stroke-linecap:square;stroke-linejoin:miter;stroke-width:0.8;\"/>\r\n   </g>\r\n   <g id=\"text_13\">\r\n    <!-- Numbers of sample in each class -->\r\n    <g transform=\"translate(121.533125 16.318125)scale(0.12 -0.12)\">\r\n     <defs>\r\n      <path d=\"M 628 4666 \r\nL 1478 4666 \r\nL 3547 763 \r\nL 3547 4666 \r\nL 4159 4666 \r\nL 4159 0 \r\nL 3309 0 \r\nL 1241 3903 \r\nL 1241 0 \r\nL 628 0 \r\nL 628 4666 \r\nz\r\n\" id=\"DejaVuSans-4e\" transform=\"scale(0.015625)\"/>\r\n      <path d=\"M 544 1381 \r\nL 544 3500 \r\nL 1119 3500 \r\nL 1119 1403 \r\nQ 1119 906 1312 657 \r\nQ 1506 409 1894 409 \r\nQ 2359 409 2629 706 \r\nQ 2900 1003 2900 1516 \r\nL 2900 3500 \r\nL 3475 3500 \r\nL 3475 0 \r\nL 2900 0 \r\nL 2900 538 \r\nQ 2691 219 2414 64 \r\nQ 2138 -91 1772 -91 \r\nQ 1169 -91 856 284 \r\nQ 544 659 544 1381 \r\nz\r\nM 1991 3584 \r\nL 1991 3584 \r\nz\r\n\" id=\"DejaVuSans-75\" transform=\"scale(0.015625)\"/>\r\n      <path d=\"M 3116 1747 \r\nQ 3116 2381 2855 2742 \r\nQ 2594 3103 2138 3103 \r\nQ 1681 3103 1420 2742 \r\nQ 1159 2381 1159 1747 \r\nQ 1159 1113 1420 752 \r\nQ 1681 391 2138 391 \r\nQ 2594 391 2855 752 \r\nQ 3116 1113 3116 1747 \r\nz\r\nM 1159 2969 \r\nQ 1341 3281 1617 3432 \r\nQ 1894 3584 2278 3584 \r\nQ 2916 3584 3314 3078 \r\nQ 3713 2572 3713 1747 \r\nQ 3713 922 3314 415 \r\nQ 2916 -91 2278 -91 \r\nQ 1894 -91 1617 61 \r\nQ 1341 213 1159 525 \r\nL 1159 0 \r\nL 581 0 \r\nL 581 4863 \r\nL 1159 4863 \r\nL 1159 2969 \r\nz\r\n\" id=\"DejaVuSans-62\" transform=\"scale(0.015625)\"/>\r\n      <path d=\"M 2631 2963 \r\nQ 2534 3019 2420 3045 \r\nQ 2306 3072 2169 3072 \r\nQ 1681 3072 1420 2755 \r\nQ 1159 2438 1159 1844 \r\nL 1159 0 \r\nL 581 0 \r\nL 581 3500 \r\nL 1159 3500 \r\nL 1159 2956 \r\nQ 1341 3275 1631 3429 \r\nQ 1922 3584 2338 3584 \r\nQ 2397 3584 2469 3576 \r\nQ 2541 3569 2628 3553 \r\nL 2631 2963 \r\nz\r\n\" id=\"DejaVuSans-72\" transform=\"scale(0.015625)\"/>\r\n      <path d=\"M 1959 3097 \r\nQ 1497 3097 1228 2736 \r\nQ 959 2375 959 1747 \r\nQ 959 1119 1226 758 \r\nQ 1494 397 1959 397 \r\nQ 2419 397 2687 759 \r\nQ 2956 1122 2956 1747 \r\nQ 2956 2369 2687 2733 \r\nQ 2419 3097 1959 3097 \r\nz\r\nM 1959 3584 \r\nQ 2709 3584 3137 3096 \r\nQ 3566 2609 3566 1747 \r\nQ 3566 888 3137 398 \r\nQ 2709 -91 1959 -91 \r\nQ 1206 -91 779 398 \r\nQ 353 888 353 1747 \r\nQ 353 2609 779 3096 \r\nQ 1206 3584 1959 3584 \r\nz\r\n\" id=\"DejaVuSans-6f\" transform=\"scale(0.015625)\"/>\r\n      <path d=\"M 2375 4863 \r\nL 2375 4384 \r\nL 1825 4384 \r\nQ 1516 4384 1395 4259 \r\nQ 1275 4134 1275 3809 \r\nL 1275 3500 \r\nL 2222 3500 \r\nL 2222 3053 \r\nL 1275 3053 \r\nL 1275 0 \r\nL 697 0 \r\nL 697 3053 \r\nL 147 3053 \r\nL 147 3500 \r\nL 697 3500 \r\nL 697 3744 \r\nQ 697 4328 969 4595 \r\nQ 1241 4863 1831 4863 \r\nL 2375 4863 \r\nz\r\n\" id=\"DejaVuSans-66\" transform=\"scale(0.015625)\"/>\r\n      <path d=\"M 603 3500 \r\nL 1178 3500 \r\nL 1178 0 \r\nL 603 0 \r\nL 603 3500 \r\nz\r\nM 603 4863 \r\nL 1178 4863 \r\nL 1178 4134 \r\nL 603 4134 \r\nL 603 4863 \r\nz\r\n\" id=\"DejaVuSans-69\" transform=\"scale(0.015625)\"/>\r\n      <path d=\"M 3513 2113 \r\nL 3513 0 \r\nL 2938 0 \r\nL 2938 2094 \r\nQ 2938 2591 2744 2837 \r\nQ 2550 3084 2163 3084 \r\nQ 1697 3084 1428 2787 \r\nQ 1159 2491 1159 1978 \r\nL 1159 0 \r\nL 581 0 \r\nL 581 3500 \r\nL 1159 3500 \r\nL 1159 2956 \r\nQ 1366 3272 1645 3428 \r\nQ 1925 3584 2291 3584 \r\nQ 2894 3584 3203 3211 \r\nQ 3513 2838 3513 2113 \r\nz\r\n\" id=\"DejaVuSans-6e\" transform=\"scale(0.015625)\"/>\r\n      <path d=\"M 3122 3366 \r\nL 3122 2828 \r\nQ 2878 2963 2633 3030 \r\nQ 2388 3097 2138 3097 \r\nQ 1578 3097 1268 2742 \r\nQ 959 2388 959 1747 \r\nQ 959 1106 1268 751 \r\nQ 1578 397 2138 397 \r\nQ 2388 397 2633 464 \r\nQ 2878 531 3122 666 \r\nL 3122 134 \r\nQ 2881 22 2623 -34 \r\nQ 2366 -91 2075 -91 \r\nQ 1284 -91 818 406 \r\nQ 353 903 353 1747 \r\nQ 353 2603 823 3093 \r\nQ 1294 3584 2113 3584 \r\nQ 2378 3584 2631 3529 \r\nQ 2884 3475 3122 3366 \r\nz\r\n\" id=\"DejaVuSans-63\" transform=\"scale(0.015625)\"/>\r\n      <path d=\"M 3513 2113 \r\nL 3513 0 \r\nL 2938 0 \r\nL 2938 2094 \r\nQ 2938 2591 2744 2837 \r\nQ 2550 3084 2163 3084 \r\nQ 1697 3084 1428 2787 \r\nQ 1159 2491 1159 1978 \r\nL 1159 0 \r\nL 581 0 \r\nL 581 4863 \r\nL 1159 4863 \r\nL 1159 2956 \r\nQ 1366 3272 1645 3428 \r\nQ 1925 3584 2291 3584 \r\nQ 2894 3584 3203 3211 \r\nQ 3513 2838 3513 2113 \r\nz\r\n\" id=\"DejaVuSans-68\" transform=\"scale(0.015625)\"/>\r\n     </defs>\r\n     <use xlink:href=\"#DejaVuSans-4e\"/>\r\n     <use x=\"74.804688\" xlink:href=\"#DejaVuSans-75\"/>\r\n     <use x=\"138.183594\" xlink:href=\"#DejaVuSans-6d\"/>\r\n     <use x=\"235.595703\" xlink:href=\"#DejaVuSans-62\"/>\r\n     <use x=\"299.072266\" xlink:href=\"#DejaVuSans-65\"/>\r\n     <use x=\"360.595703\" xlink:href=\"#DejaVuSans-72\"/>\r\n     <use x=\"401.708984\" xlink:href=\"#DejaVuSans-73\"/>\r\n     <use x=\"453.808594\" xlink:href=\"#DejaVuSans-20\"/>\r\n     <use x=\"485.595703\" xlink:href=\"#DejaVuSans-6f\"/>\r\n     <use x=\"546.777344\" xlink:href=\"#DejaVuSans-66\"/>\r\n     <use x=\"581.982422\" xlink:href=\"#DejaVuSans-20\"/>\r\n     <use x=\"613.769531\" xlink:href=\"#DejaVuSans-73\"/>\r\n     <use x=\"665.869141\" xlink:href=\"#DejaVuSans-61\"/>\r\n     <use x=\"727.148438\" xlink:href=\"#DejaVuSans-6d\"/>\r\n     <use x=\"824.560547\" xlink:href=\"#DejaVuSans-70\"/>\r\n     <use x=\"888.037109\" xlink:href=\"#DejaVuSans-6c\"/>\r\n     <use x=\"915.820312\" xlink:href=\"#DejaVuSans-65\"/>\r\n     <use x=\"977.34375\" xlink:href=\"#DejaVuSans-20\"/>\r\n     <use x=\"1009.130859\" xlink:href=\"#DejaVuSans-69\"/>\r\n     <use x=\"1036.914062\" xlink:href=\"#DejaVuSans-6e\"/>\r\n     <use x=\"1100.292969\" xlink:href=\"#DejaVuSans-20\"/>\r\n     <use x=\"1132.080078\" xlink:href=\"#DejaVuSans-65\"/>\r\n     <use x=\"1193.603516\" xlink:href=\"#DejaVuSans-61\"/>\r\n     <use x=\"1254.882812\" xlink:href=\"#DejaVuSans-63\"/>\r\n     <use x=\"1309.863281\" xlink:href=\"#DejaVuSans-68\"/>\r\n     <use x=\"1373.242188\" xlink:href=\"#DejaVuSans-20\"/>\r\n     <use x=\"1405.029297\" xlink:href=\"#DejaVuSans-63\"/>\r\n     <use x=\"1460.009766\" xlink:href=\"#DejaVuSans-6c\"/>\r\n     <use x=\"1487.792969\" xlink:href=\"#DejaVuSans-61\"/>\r\n     <use x=\"1549.072266\" xlink:href=\"#DejaVuSans-73\"/>\r\n     <use x=\"1601.171875\" xlink:href=\"#DejaVuSans-73\"/>\r\n    </g>\r\n   </g>\r\n  </g>\r\n </g>\r\n <defs>\r\n  <clipPath id=\"p58b17e7d7c\">\r\n   <rect height=\"217.44\" width=\"334.8\" x=\"53.328125\" y=\"22.318125\"/>\r\n  </clipPath>\r\n </defs>\r\n</svg>\r\n",
      "image/png": "[encoded data removed]"
     },
     "metadata": {
      "needs_background": "light"
     }
    }
   ],
   "source": [
    "vt.frequency_class(training_set)"
   ]
  },
  {
   "cell_type": "code",
   "execution_count": 10,
   "metadata": {},
   "outputs": [
    {
     "output_type": "execute_result",
     "data": {
      "text/plain": [
       "'c:\\\\Users\\\\Karina\\\\Desktop\\\\data_science_apr_2021\\\\machine_learning_project\\\\project\\\\data\\\\Train'"
      ]
     },
     "metadata": {},
     "execution_count": 10
    }
   ],
   "source": [
    "data_path = os.path.dirname(os.getcwd()) + os.sep + 'data' + os.sep + \"Train\" \n",
    "data_path"
   ]
  },
  {
   "cell_type": "code",
   "execution_count": 15,
   "metadata": {
    "tags": []
   },
   "outputs": [],
   "source": [
    "for clase in listdir(data_path): #f es la clase\n",
    "    ruta_clase = data_path + os.sep + clase +os.sep \n",
    "    #print(ruta_clase)\n",
    "    for imagen_name in listdir(ruta_clase):\n",
    "        imagen_full_name  = ruta_clase+imagen_name\n",
    "\n",
    "        image_cv = cv.imread(imagen_full_name)\n",
    "        image_cv = cv.resize(image_cv,())\n",
    "        #print(imagen_full_name) #todas las rutas completas a todas las carpetas de las clases"
   ]
  },
  {
   "cell_type": "code",
   "execution_count": 96,
   "metadata": {},
   "outputs": [
    {
     "output_type": "error",
     "ename": "FileNotFoundError",
     "evalue": "[WinError 3] El sistema no puede encontrar la ruta especificada: 'c:\\\\Users\\\\Karina\\\\Desktop\\\\data_science_apr_2021\\\\machine_learning_project\\\\project\\\\data\\\\clases'",
     "traceback": [
      "\u001b[1;31m---------------------------------------------------------------------------\u001b[0m",
      "\u001b[1;31mFileNotFoundError\u001b[0m                         Traceback (most recent call last)",
      "\u001b[1;32m<ipython-input-96-804a772e5caf>\u001b[0m in \u001b[0;36m<module>\u001b[1;34m\u001b[0m\n\u001b[1;32m----> 1\u001b[1;33m \u001b[0monly_image_names\u001b[0m \u001b[1;33m=\u001b[0m \u001b[1;33m[\u001b[0m\u001b[0mf\u001b[0m \u001b[1;32mfor\u001b[0m \u001b[0mf\u001b[0m \u001b[1;32min\u001b[0m \u001b[0mlistdir\u001b[0m\u001b[1;33m(\u001b[0m\u001b[0mdata_path\u001b[0m\u001b[1;33m)\u001b[0m \u001b[1;32mif\u001b[0m \u001b[0misfile\u001b[0m\u001b[1;33m(\u001b[0m\u001b[0mjoin\u001b[0m\u001b[1;33m(\u001b[0m\u001b[0mdata_path\u001b[0m\u001b[1;33m,\u001b[0m \u001b[0mf\u001b[0m\u001b[1;33m)\u001b[0m\u001b[1;33m)\u001b[0m\u001b[1;33m]\u001b[0m\u001b[1;33m\u001b[0m\u001b[1;33m\u001b[0m\u001b[0m\n\u001b[0m",
      "\u001b[1;31mFileNotFoundError\u001b[0m: [WinError 3] El sistema no puede encontrar la ruta especificada: 'c:\\\\Users\\\\Karina\\\\Desktop\\\\data_science_apr_2021\\\\machine_learning_project\\\\project\\\\data\\\\clases'"
     ]
    }
   ],
   "source": [
    "df_dict = []\n",
    "for image_name in only_image_names:\n",
    "    if \".png\" in image_name:\n",
    "        image_fullpath = data_path + image_name\n",
    "        image_cv = cv.imread(image_fullpath, 0) # con 0 leemos en blanco y negro\n",
    "        # Ya que cada una de las imágenes pueden tener resoluciones diferentes --> \n",
    "        # redimensiono las imágenes para que todas tengan la resolución de la mínima \n",
    "        # resolución original. \n",
    "        image_cv = cv.resize(image_cv, (211, 211))  \n",
    "        #print(\"##########\")\n",
    "        #print(image_fullpath)\n",
    "        #print(image_cv.shape)\n",
    "        if \"msk\" in image_name:\n",
    "            df_dict.append({\"Image\":image_cv, \"Label\":1, \"Fullpath\":image_fullpath })\n",
    "        elif \"preview\" in image_name:\n",
    "            df_dict.append({\"Image\":image_cv, \"Label\":2, \"Fullpath\":image_fullpath})\n",
    "        else:\n",
    "            df_dict.append({\"Image\":image_cv, \"Label\":0, \"Fullpath\":image_fullpath})\n",
    "        \n",
    "\n",
    "df = pd.DataFrame(df_dict)\n",
    "df.head()"
   ]
  }
 ]
}